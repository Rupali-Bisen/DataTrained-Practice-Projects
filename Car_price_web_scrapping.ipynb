{
 "cells": [
  {
   "cell_type": "code",
   "execution_count": 27,
   "metadata": {},
   "outputs": [
    {
     "name": "stderr",
     "output_type": "stream",
     "text": [
      "\n",
      "\n",
      "====== WebDriver manager ======\n",
      "Current google-chrome version is 93.0.4577\n",
      "Get LATEST driver version for 93.0.4577\n",
      "Driver [C:\\Users\\Csp\\.wdm\\drivers\\chromedriver\\win32\\93.0.4577.63\\chromedriver.exe] found in cache\n"
     ]
    }
   ],
   "source": [
    "# Importing Libraries\n",
    "import selenium\n",
    "import pandas as pd\n",
    "import time\n",
    "from bs4 import BeautifulSoup\n",
    "\n",
    "#!pip install webdriver-manager\n",
    "\n",
    "# Importing selenium webdriver \n",
    "from selenium import webdriver \n",
    "from webdriver_manager.chrome import ChromeDriverManager\n",
    "\n",
    "#connect to the webdriver\n",
    "driver = webdriver.Chrome(ChromeDriverManager().install())\n",
    "\n",
    "\n",
    "# Importing required Exceptions which needs to handled\n",
    "from selenium.common.exceptions import StaleElementReferenceException, NoSuchElementException\n",
    "\n",
    "#Importing requests\n",
    "import requests\n",
    "\n",
    "# importing regex\n",
    "import re"
   ]
  },
  {
   "cell_type": "code",
   "execution_count": 28,
   "metadata": {},
   "outputs": [
    {
     "name": "stdout",
     "output_type": "stream",
     "text": [
      "Enter the product you want to search : maruti suzuki\n"
     ]
    }
   ],
   "source": [
    "#Opening the url\n",
    "url='https://www.olx.in/'\n",
    "driver.get(url)\n",
    "\n",
    "time.sleep(2)\n",
    "# Asking the user to input the keywords he/she wants to search\n",
    "user_inp = input('Enter the product you want to search : ')"
   ]
  },
  {
   "cell_type": "code",
   "execution_count": 29,
   "metadata": {},
   "outputs": [],
   "source": [
    "search_bar = driver.find_element_by_xpath('//div[@class=\"zYZEU\"]//input')    # Locating search_bar by xpath\n",
    "search_bar.clear()                                               # clearing search_bar\n",
    "search_bar.send_keys(user_inp)                                   # sending user input to search bar\n",
    "search_button = driver.find_element_by_xpath('//div[@class=\"_3b3oR\"]')       # Locating search_button by xpath\n",
    "search_button.click()                                                                # Clicking the button to start search"
   ]
  },
  {
   "cell_type": "code",
   "execution_count": 31,
   "metadata": {},
   "outputs": [],
   "source": [
    "# scrape all product urls\n",
    "urls=[]\n",
    "for i in range(0,1):#for loop for scrapping 1 page\n",
    "    for j in driver.find_elements_by_xpath('//li[@class=\"EIR5N\"]//a'):\n",
    "        urls.append(j.get_attribute('href'))"
   ]
  },
  {
   "cell_type": "code",
   "execution_count": 32,
   "metadata": {},
   "outputs": [
    {
     "data": {
      "text/plain": [
       "['https://www.olx.in/item/maruti-suzuki-swift-dzire-vdi-2015-diesel-iid-1651852496',\n",
       " 'https://www.olx.in/item/maruti-suzuki-ertiga-zdi-2013-diesel-iid-1657981414',\n",
       " 'https://www.olx.in/item/maruti-suzuki-ciaz-13-zeta-2019-diesel-iid-1655832659',\n",
       " 'https://www.olx.in/item/maruti-suzuki-baleno-207-diesel-80000-km-driven-iid-1658088532',\n",
       " 'https://www.olx.in/item/maruti-suzuki-ciaz-2020-petrol-well-maintained-iid-1658088360',\n",
       " 'https://www.olx.in/item/maruti-suzuki-wagon-r-2012-cng-hybrids-iid-1658088250',\n",
       " 'https://www.olx.in/item/maruti-suzuki-wagon-r-vxi-2015-cng-hybrids-iid-1658088206',\n",
       " 'https://www.olx.in/item/maruti-suzuki-wagon-r-10-lxi-cng-2015-cng-hybrids-iid-1658088156',\n",
       " 'https://www.olx.in/item/maruti-suzuki-vitara-brezza-2020-petrol-well-maintained-iid-1658088146',\n",
       " 'https://www.olx.in/item/maruti-suzuki-swift-2011-diesel-118000-km-driven-iid-1658088120',\n",
       " 'https://www.olx.in/item/maruti-suzuki-celerio-others-2014-petrol-iid-1658088066',\n",
       " 'https://www.olx.in/item/maruti-suzuki-wagon-r-2007-cng-hybrids-55000-km-driven-iid-1658088040',\n",
       " 'https://www.olx.in/item/maruti-suzuki-baleno-2020-petrol-10000-km-driven-iid-1658088025',\n",
       " 'https://www.olx.in/item/maruti-suzuki-sx4-zdi-2011-diesel-iid-1658087946',\n",
       " 'https://www.olx.in/item/maruti-suzuki-swift-2008-iid-1658087884',\n",
       " 'https://www.olx.in/item/ac-nd-heater-very-goodtayer-90prcentvery-good-condition-car-iid-1658087878',\n",
       " 'https://www.olx.in/item/maruti-suzuki-wagon-r-duo-2007-lpg-well-maintained-iid-1653171792',\n",
       " 'https://www.olx.in/item/maruti-suzuki-swift-dzire-2019-diesel-good-condition-iid-1658087830',\n",
       " 'https://www.olx.in/item/maruti-suzuki-swift-2006-petrol-82000-km-driven-iid-1658087816',\n",
       " 'https://www.olx.in/item/maruti-suzuki-swift-dzire-2016-diesel-112000-km-driven-iid-1658087811']"
      ]
     },
     "execution_count": 32,
     "metadata": {},
     "output_type": "execute_result"
    }
   ],
   "source": [
    "urls"
   ]
  },
  {
   "cell_type": "code",
   "execution_count": 33,
   "metadata": {},
   "outputs": [
    {
     "data": {
      "text/plain": [
       "20"
      ]
     },
     "execution_count": 33,
     "metadata": {},
     "output_type": "execute_result"
    }
   ],
   "source": [
    "len(urls)"
   ]
  },
  {
   "cell_type": "code",
   "execution_count": 34,
   "metadata": {},
   "outputs": [],
   "source": [
    "#defining variables\n",
    "model=[]\n",
    "year_km=[]\n",
    "location=[]\n",
    "price=[]"
   ]
  },
  {
   "cell_type": "code",
   "execution_count": 35,
   "metadata": {},
   "outputs": [],
   "source": [
    "#fetching price of the used car\n",
    "for i in urls:\n",
    "    driver.get(i)\n",
    "    time.sleep(3)\n",
    "try:\n",
    "    for j in driver.find_elements_by_xpath('//span[@class=\"_89yzn\"]'):\n",
    "        price.append(j.text)\n",
    "        \n",
    "except NoSuchElementException:\n",
    "    price.append('-')"
   ]
  },
  {
   "cell_type": "code",
   "execution_count": 37,
   "metadata": {},
   "outputs": [],
   "source": [
    "#fetching year and km of the used car\n",
    "for i in urls:\n",
    "    driver.get(i)\n",
    "    time.sleep(3)\n",
    "try:\n",
    "    for j in driver.find_elements_by_xpath('//div[@class=\"IKo3_\"]/span[2]'):\n",
    "        year_km.append(j.text)\n",
    "        \n",
    "except NoSuchElementException:\n",
    "    year_km.append('-')"
   ]
  },
  {
   "cell_type": "code",
   "execution_count": 38,
   "metadata": {},
   "outputs": [],
   "source": [
    "#fetching model of the used car\n",
    "for i in urls:\n",
    "    driver.get(i)\n",
    "    time.sleep(3)\n",
    "try:\n",
    "    for j in driver.find_elements_by_xpath('//span[@class=\"_2tW1I\"]'):\n",
    "        model.append(j.text)\n",
    "        \n",
    "except NoSuchElementException:\n",
    "    model.append('-')"
   ]
  },
  {
   "cell_type": "code",
   "execution_count": 39,
   "metadata": {},
   "outputs": [],
   "source": [
    "#fetching location of the used car\n",
    "for i in urls:\n",
    "    driver.get(i)\n",
    "    time.sleep(3)\n",
    "try:\n",
    "    for j in driver.find_elements_by_xpath('//span[@class=\"tjgMj\"]'):\n",
    "        location.append(j.text)\n",
    "        \n",
    "except NoSuchElementException:\n",
    "    location.append('-')"
   ]
  },
  {
   "cell_type": "code",
   "execution_count": null,
   "metadata": {},
   "outputs": [],
   "source": [
    "location"
   ]
  },
  {
   "cell_type": "code",
   "execution_count": null,
   "metadata": {},
   "outputs": [],
   "source": []
  }
 ],
 "metadata": {
  "kernelspec": {
   "display_name": "Python 3",
   "language": "python",
   "name": "python3"
  }
 },
 "nbformat": 4,
 "nbformat_minor": 4
}
